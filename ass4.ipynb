{
 "cells": [
  {
   "cell_type": "code",
   "execution_count": null,
   "metadata": {},
   "outputs": [],
   "source": [
    "import matplotlib.pyplot as plt\n",
    "import numpy as np \n",
    "import pandas as pd\n",
    "import tensorflow as tf"
   ]
  },
  {
   "cell_type": "code",
   "execution_count": null,
   "metadata": {},
   "outputs": [],
   "source": [
    "from sklearn.metrics import accuracy_score, precision_score, recall_score\n",
    "from sklearn.model_selection import train_test_split\n",
    "from tensorflow.keras import layers, losses\n",
    "from tensorflow.keras.datasets import fashion_mnist\n",
    "from tensorflow.keras.models import Model"
   ]
  },
  {
   "cell_type": "code",
   "execution_count": null,
   "metadata": {},
   "outputs": [],
   "source": [
    "(x_train, _), (x_test, _) = fashion_mnist.load_data()\n",
    "\n",
    "x_train = x_train/255.\n",
    "x_test = x_test/255.\n",
    "\n",
    "print(x_train.shape)\n",
    "print(x_test.shape)"
   ]
  },
  {
   "cell_type": "code",
   "execution_count": null,
   "metadata": {},
   "outputs": [],
   "source": [
    "latent_dim = 64\n",
    "class Autoencoder(Model):  \n",
    "    def __init__(self, latent_dim):    \n",
    "        super(Autoencoder, self).__init__()    \n",
    "        self.latent_dim = latent_dim       \n",
    "        self.encoder = tf.keras.Sequential([      \n",
    "            layers.Flatten(),      \n",
    "            layers.Dense(latent_dim, activation='relu'),    \n",
    "            ])    \n",
    "            self.decoder = tf.keras.Sequential([      \n",
    "                layers.Dense(784, activation='sigmoid'),      \n",
    "                layers.Reshape((28, 28))    \n",
    "                ])  \n",
    "                \n",
    "def call(self, x):    \n",
    "     encoded = self.encoder(x)   \n",
    "     decoded = self.decoder(encoded)\n",
    "     return decoded\n",
    "\n",
    "autoencoder = Autoencoder(latent_dim)"
   ]
  },
  {
   "cell_type": "code",
   "execution_count": null,
   "metadata": {},
   "outputs": [],
   "source": [
    "autoencoder.compile(optimizer='adam', loss=losses.MeanSquaredError())\n",
    "\n",
    "autoencoder.fit(x_train, x_train,                \n",
    "                epochs=10,                \n",
    "                shuffle=True,                \n",
    "                validation_data=(x_test, x_test))"
   ]
  },
  {
   "cell_type": "code",
   "execution_count": null,
   "metadata": {},
   "outputs": [],
   "source": [
    "encoded_imgs = autoencoder.encoder(x_test).numpy()\n",
    "decoded_imgs = autoencoder.decoder(encoded_imgs).numpy()"
   ]
  },
  {
   "cell_type": "code",
   "execution_count": null,
   "metadata": {},
   "outputs": [],
   "source": [
    "n = 10\n",
    "plt.figure(figsize=(20, 4))\n",
    "for i in range(n):  \n",
    "    # display original  \n",
    "    ax = plt.subplot(2, n, i + 1) \n",
    "     plt.imshow(x_test[i])  \n",
    "     plt.title(\"original\")  \n",
    "     plt.gray()  \n",
    "     ax.get_xaxis().set_visible(False)  \n",
    "     ax.get_yaxis().set_visible(False)  \n",
    "     \n",
    "     # display reconstruction  \n",
    "     ax = plt.subplot(2, n, i + 1 + n)  \n",
    "     plt.imshow(decoded_imgs[i])  \n",
    "     plt.title(\"reconstructed\")  \n",
    "     plt.gray()  \n",
    "     ax.get_xaxis().set_visible(False)  \n",
    "     ax.get_yaxis().set_visible(False)\n",
    "plt.show()"
   ]
  }
 ],
 "metadata": {
  "kernelspec": {
   "display_name": "Python 3.10.3 64-bit",
   "language": "python",
   "name": "python3"
  },
  "language_info": {
   "name": "python",
   "version": "3.10.3"
  },
  "orig_nbformat": 4,
  "vscode": {
   "interpreter": {
    "hash": "8c3d4d9970fc5c09c50d9318a9c7fbf4d0159e4b28833276f5678ee22bded273"
   }
  }
 },
 "nbformat": 4,
 "nbformat_minor": 2
}
